{
 "cells": [
  {
   "cell_type": "markdown",
   "metadata": {},
   "source": [
    "Read the following data set:\n",
    "https://archive.ics.uci.edu/ml/machine-learning-databases/adult/adult.data\n",
    "Task:"
   ]
  },
  {
   "cell_type": "markdown",
   "metadata": {},
   "source": [
    "1. Create an sqlalchemy engine using a sample from the data set"
   ]
  },
  {
   "cell_type": "code",
   "execution_count": 1,
   "metadata": {},
   "outputs": [],
   "source": [
    "import pandas as pd\n",
    "from sqlalchemy import create_engine\n",
    "engine = create_engine('sqlite://', echo=False)\n",
    "\n",
    "cols=['age','workclass','fnlwgt','education','education-num','marital-status','occupation','relationship','race',\n",
    "               'sex','capital-gain','capital-loss','hours-per-week','native-country','label']\n",
    "\n",
    "df=pd.read_csv('adult.data.txt', names=cols)\n",
    "df.to_sql('adults', con=engine)"
   ]
  },
  {
   "cell_type": "markdown",
   "metadata": {},
   "source": [
    "2. Write two basic update queries"
   ]
  },
  {
   "cell_type": "code",
   "execution_count": 9,
   "metadata": {},
   "outputs": [
    {
     "data": {
      "text/plain": [
       "<sqlalchemy.engine.result.ResultProxy at 0x207c5eeddd8>"
      ]
     },
     "execution_count": 9,
     "metadata": {},
     "output_type": "execute_result"
    }
   ],
   "source": [
    "str='''update adults set fnlwgt=77 where age=39;'''\n",
    "engine.execute(str)"
   ]
  },
  {
   "cell_type": "code",
   "execution_count": 13,
   "metadata": {},
   "outputs": [
    {
     "data": {
      "text/plain": [
       "<sqlalchemy.engine.result.ResultProxy at 0x207c639ca20>"
      ]
     },
     "execution_count": 13,
     "metadata": {},
     "output_type": "execute_result"
    }
   ],
   "source": [
    "str='''update adults set education=\"11th\" where trim(education)=\"Bachelors\";'''\n",
    "engine.execute(str)"
   ]
  },
  {
   "cell_type": "markdown",
   "metadata": {},
   "source": [
    "3. Write two delete queries"
   ]
  },
  {
   "cell_type": "code",
   "execution_count": 15,
   "metadata": {},
   "outputs": [
    {
     "data": {
      "text/plain": [
       "<sqlalchemy.engine.result.ResultProxy at 0x207c639cc18>"
      ]
     },
     "execution_count": 15,
     "metadata": {},
     "output_type": "execute_result"
    }
   ],
   "source": [
    "str='''delete from adutls where \"hours-per-week\"=40;'''\n",
    "engine.execute(str)"
   ]
  },
  {
   "cell_type": "code",
   "execution_count": 18,
   "metadata": {},
   "outputs": [
    {
     "data": {
      "text/plain": [
       "<sqlalchemy.engine.result.ResultProxy at 0x207c63a1b70>"
      ]
     },
     "execution_count": 18,
     "metadata": {},
     "output_type": "execute_result"
    }
   ],
   "source": [
    "str='''delete from adults where age=50;'''\n",
    "engine.execute(str)"
   ]
  },
  {
   "cell_type": "markdown",
   "metadata": {},
   "source": [
    "4. Write two filter queries"
   ]
  },
  {
   "cell_type": "code",
   "execution_count": 22,
   "metadata": {},
   "outputs": [
    {
     "name": "stdout",
     "output_type": "stream",
     "text": [
      "(6, 49, ' Private', 160187, ' 9th', 5, ' Married-spouse-absent', ' Other-service', ' Not-in-family', ' Black', ' Female', 0, 0, 16, ' Jamaica', ' <=50K')\n",
      "(8, 31, ' Private', 45781, ' Masters', 14, ' Never-married', ' Prof-specialty', ' Not-in-family', ' White', ' Female', 14084, 0, 50, ' United-States', ' >50K')\n",
      "(10, 37, ' Private', 280464, ' Some-college', 10, ' Married-civ-spouse', ' Exec-managerial', ' Husband', ' Black', ' Male', 0, 0, 80, ' United-States', ' >50K')\n",
      "(12, 23, ' Private', 122272, '11th', 13, ' Never-married', ' Adm-clerical', ' Own-child', ' White', ' Female', 0, 0, 30, ' United-States', ' <=50K')\n",
      "(13, 32, ' Private', 205019, ' Assoc-acdm', 12, ' Never-married', ' Sales', ' Not-in-family', ' Black', ' Male', 0, 0, 50, ' United-States', ' <=50K')\n"
     ]
    }
   ],
   "source": [
    "str='''select * from adults where age<50 limit 5;'''\n",
    "for rec in engine.execute(str):\n",
    "    print(rec)"
   ]
  },
  {
   "cell_type": "code",
   "execution_count": 25,
   "metadata": {},
   "outputs": [
    {
     "name": "stdout",
     "output_type": "stream",
     "text": [
      "(6, 49, ' Private', 160187, ' 9th', 5, ' Married-spouse-absent', ' Other-service', ' Not-in-family', ' Black', ' Female', 0, 0, 16, ' Jamaica', ' <=50K')\n",
      "(8, 31, ' Private', 45781, ' Masters', 14, ' Never-married', ' Prof-specialty', ' Not-in-family', ' White', ' Female', 14084, 0, 50, ' United-States', ' >50K')\n",
      "(10, 37, ' Private', 280464, ' Some-college', 10, ' Married-civ-spouse', ' Exec-managerial', ' Husband', ' Black', ' Male', 0, 0, 80, ' United-States', ' >50K')\n",
      "(12, 23, ' Private', 122272, '11th', 13, ' Never-married', ' Adm-clerical', ' Own-child', ' White', ' Female', 0, 0, 30, ' United-States', ' <=50K')\n",
      "(13, 32, ' Private', 205019, ' Assoc-acdm', 12, ' Never-married', ' Sales', ' Not-in-family', ' Black', ' Male', 0, 0, 50, ' United-States', ' <=50K')\n"
     ]
    }
   ],
   "source": [
    "str='''select * from adults where trim(workclass)=\"Private\" limit 5;'''\n",
    "for rec in engine.execute(str):\n",
    "    print(rec)"
   ]
  },
  {
   "cell_type": "markdown",
   "metadata": {},
   "source": [
    "5. Write two function queries"
   ]
  },
  {
   "cell_type": "code",
   "execution_count": 28,
   "metadata": {},
   "outputs": [
    {
     "name": "stdout",
     "output_type": "stream",
     "text": [
      "(17,)\n"
     ]
    }
   ],
   "source": [
    "str='''select min(age) from adults where trim(workclass)=\"State-gov\";'''\n",
    "for rec in engine.execute(str):\n",
    "    print(rec)"
   ]
  },
  {
   "cell_type": "code",
   "execution_count": 30,
   "metadata": {},
   "outputs": [
    {
     "name": "stdout",
     "output_type": "stream",
     "text": [
      "(636.018858131488,)\n"
     ]
    }
   ],
   "source": [
    "str='''select avg(\"capital-gain\") from adults where trim(sex)=\"Female\";'''\n",
    "for rec in engine.execute(str):\n",
    "    print(rec)"
   ]
  }
 ],
 "metadata": {
  "kernelspec": {
   "display_name": "Python 3",
   "language": "python",
   "name": "python3"
  },
  "language_info": {
   "codemirror_mode": {
    "name": "ipython",
    "version": 3
   },
   "file_extension": ".py",
   "mimetype": "text/x-python",
   "name": "python",
   "nbconvert_exporter": "python",
   "pygments_lexer": "ipython3",
   "version": "3.7.0"
  }
 },
 "nbformat": 4,
 "nbformat_minor": 2
}
